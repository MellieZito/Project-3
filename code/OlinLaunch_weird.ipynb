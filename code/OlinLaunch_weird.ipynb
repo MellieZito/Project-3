{
 "cells": [
  {
   "cell_type": "markdown",
   "metadata": {},
   "source": [
    "# How much effort would it take to jump between West Hall and East Hall?\n",
    "\n",
    "Mellie Zito and Annie Tor\n",
    "\n",
    "ModSim Section 1, Group 13"
   ]
  },
  {
   "cell_type": "code",
   "execution_count": 1,
   "metadata": {},
   "outputs": [],
   "source": [
    "# Configure Jupyter so figures appear in the notebook\n",
    "%matplotlib inline\n",
    "\n",
    "# Configure Jupyter to display the assigned value after an assignment\n",
    "%config InteractiveShell.ast_node_interactivity='last_expr_or_assign'\n",
    "\n",
    "# import functions from the modsim.py module\n",
    "from modsim import *"
   ]
  },
  {
   "cell_type": "markdown",
   "metadata": {},
   "source": [
    "## Question"
   ]
  },
  {
   "cell_type": "markdown",
   "metadata": {},
   "source": [
    "As Olin students, we have often contemplated odd hypotheticals. In this case, we are going to launch a student from the roof of West Hall to the roof of East Hall. This question was inspired by the frigid, long (1 minute) walk from one dorm to another. For the launch to be as efficient as possible and successful, we need to find the optimal angle and minimum starting velocity needed."
   ]
  },
  {
   "cell_type": "markdown",
   "metadata": {},
   "source": [
    "## Model"
   ]
  },
  {
   "cell_type": "markdown",
   "metadata": {},
   "source": [
    "### Setup"
   ]
  },
  {
   "cell_type": "markdown",
   "metadata": {},
   "source": [
    "units stuff?"
   ]
  },
  {
   "cell_type": "code",
   "execution_count": 2,
   "metadata": {},
   "outputs": [],
   "source": [
    "m = UNITS.meter\n",
    "s = UNITS.second\n",
    "kg = UNITS.kilogram\n",
    "degree = UNITS.degree;"
   ]
  },
  {
   "cell_type": "markdown",
   "metadata": {},
   "source": [
    "For the State, "
   ]
  },
  {
   "cell_type": "code",
   "execution_count": 3,
   "metadata": {},
   "outputs": [
    {
     "data": {
      "text/html": [
       "<div>\n",
       "<style scoped>\n",
       "    .dataframe tbody tr th:only-of-type {\n",
       "        vertical-align: middle;\n",
       "    }\n",
       "\n",
       "    .dataframe tbody tr th {\n",
       "        vertical-align: top;\n",
       "    }\n",
       "\n",
       "    .dataframe thead th {\n",
       "        text-align: right;\n",
       "    }\n",
       "</style>\n",
       "<table border=\"1\" class=\"dataframe\">\n",
       "  <thead>\n",
       "    <tr style=\"text-align: right;\">\n",
       "      <th></th>\n",
       "      <th>values</th>\n",
       "    </tr>\n",
       "  </thead>\n",
       "  <tbody>\n",
       "    <tr>\n",
       "      <th>x</th>\n",
       "      <td>0 meter</td>\n",
       "    </tr>\n",
       "    <tr>\n",
       "      <th>y</th>\n",
       "      <td>12.2 meter</td>\n",
       "    </tr>\n",
       "    <tr>\n",
       "      <th>g</th>\n",
       "      <td>9.8 meter / second ** 2</td>\n",
       "    </tr>\n",
       "    <tr>\n",
       "      <th>mass</th>\n",
       "      <td>70 kilogram</td>\n",
       "    </tr>\n",
       "    <tr>\n",
       "      <th>diameter</th>\n",
       "      <td>0.711 meter</td>\n",
       "    </tr>\n",
       "    <tr>\n",
       "      <th>rho</th>\n",
       "      <td>1.2 kilogram / meter ** 3</td>\n",
       "    </tr>\n",
       "    <tr>\n",
       "      <th>C_d</th>\n",
       "      <td>0.47</td>\n",
       "    </tr>\n",
       "    <tr>\n",
       "      <th>angle</th>\n",
       "      <td>45 degree</td>\n",
       "    </tr>\n",
       "    <tr>\n",
       "      <th>velocity</th>\n",
       "      <td>40.0 meter / second</td>\n",
       "    </tr>\n",
       "    <tr>\n",
       "      <th>t_end</th>\n",
       "      <td>20 second</td>\n",
       "    </tr>\n",
       "  </tbody>\n",
       "</table>\n",
       "</div>"
      ],
      "text/plain": [
       "x                             0 meter\n",
       "y                          12.2 meter\n",
       "g             9.8 meter / second ** 2\n",
       "mass                      70 kilogram\n",
       "diameter                  0.711 meter\n",
       "rho         1.2 kilogram / meter ** 3\n",
       "C_d                              0.47\n",
       "angle                       45 degree\n",
       "velocity          40.0 meter / second\n",
       "t_end                       20 second\n",
       "dtype: object"
      ]
     },
     "execution_count": 3,
     "metadata": {},
     "output_type": "execute_result"
    }
   ],
   "source": [
    "params = Params(x = 0 * m, #original x position\n",
    "                y = 12.2 * m, #original y position (12.2 is the height of the edge of West Hall)\n",
    "                g = 9.8 * m/s**2, #acceleration due to gravity\n",
    "                mass = 70 * kg, #average mass of a human adult\n",
    "                diameter = 0.711 * m, #average diameter of a balled-up human (based off Annie)\n",
    "                rho = 1.2 * kg/m**3, #density of air \n",
    "                C_d = 0.47, #drag coefficient of a sphere\n",
    "                angle = 45 * degree, #initial launch angle\n",
    "                velocity = 40 * m / s, #initial launch velocity\n",
    "                t_end = 20 * s) #point at which to end the simulation"
   ]
  },
  {
   "cell_type": "code",
   "execution_count": 4,
   "metadata": {},
   "outputs": [],
   "source": [
    "def make_system(params):\n",
    "    \"\"\"Make a system object.\n",
    "    \n",
    "    params: Params object with angle, velocity, x, y,\n",
    "               diameter, duration, g, mass, rho, and C_d\n",
    "               \n",
    "    returns: System object\n",
    "    \"\"\"\n",
    "    unpack(params)\n",
    "    \n",
    "    # convert angle to degrees\n",
    "    theta = np.deg2rad(angle)\n",
    "    \n",
    "    # compute x and y components of velocity\n",
    "    vx, vy = pol2cart(theta, velocity)\n",
    "    \n",
    "    # make the initial state\n",
    "    init = State(x=x, y=y, vx=vx, vy=vy)\n",
    "    \n",
    "    # compute area from diameter\n",
    "    area = np.pi * (diameter/2)**2\n",
    "    \n",
    "    return System(params, init=init, area=area)"
   ]
  },
  {
   "cell_type": "code",
   "execution_count": 5,
   "metadata": {},
   "outputs": [],
   "source": [
    "def drag_force(V, system):\n",
    "    \"\"\"Computes drag force in the opposite direction of `V`.\n",
    "    \n",
    "    V: velocity\n",
    "    system: System object with rho, C_d, area\n",
    "    \n",
    "    returns: Vector drag force\n",
    "    \"\"\"\n",
    "    unpack(system)\n",
    "    mag = -rho * V.mag**2 * C_d * area / 2\n",
    "    direction = V.hat()\n",
    "    f_drag = mag * direction\n",
    "    return f_drag"
   ]
  },
  {
   "cell_type": "code",
   "execution_count": 6,
   "metadata": {},
   "outputs": [],
   "source": [
    "def slope_func(state, t, system):\n",
    "    \"\"\"Computes derivatives of the state variables.\n",
    "    \n",
    "    state: State (x, y, x velocity, y velocity)\n",
    "    t: time\n",
    "    system: System object with g, rho, C_d, area, mass\n",
    "    \n",
    "    returns: sequence (vx, vy, ax, ay)\n",
    "    \"\"\"\n",
    "    x, y, vx, vy = state\n",
    "    unpack(system)\n",
    "\n",
    "    V = Vector(vx, vy)    \n",
    "    a_drag = drag_force(V, system) / mass\n",
    "    a_grav = Vector(0, -g)\n",
    "    \n",
    "    a = a_grav + a_drag\n",
    "    \n",
    "    return vx, vy, a.x, a.y"
   ]
  },
  {
   "cell_type": "markdown",
   "metadata": {},
   "source": [
    " "
   ]
  },
  {
   "cell_type": "markdown",
   "metadata": {},
   "source": [
    "### Maximum Range and Height based on Angle"
   ]
  },
  {
   "cell_type": "code",
   "execution_count": 23,
   "metadata": {},
   "outputs": [
    {
     "data": {
      "text/html": [
       "<div>\n",
       "<style scoped>\n",
       "    .dataframe tbody tr th:only-of-type {\n",
       "        vertical-align: middle;\n",
       "    }\n",
       "\n",
       "    .dataframe tbody tr th {\n",
       "        vertical-align: top;\n",
       "    }\n",
       "\n",
       "    .dataframe thead th {\n",
       "        text-align: right;\n",
       "    }\n",
       "</style>\n",
       "<table border=\"1\" class=\"dataframe\">\n",
       "  <thead>\n",
       "    <tr style=\"text-align: right;\">\n",
       "      <th></th>\n",
       "      <th>values</th>\n",
       "    </tr>\n",
       "  </thead>\n",
       "  <tbody>\n",
       "    <tr>\n",
       "      <th>x</th>\n",
       "      <td>0 meter</td>\n",
       "    </tr>\n",
       "    <tr>\n",
       "      <th>y</th>\n",
       "      <td>12.2 meter</td>\n",
       "    </tr>\n",
       "    <tr>\n",
       "      <th>g</th>\n",
       "      <td>9.8 meter / second ** 2</td>\n",
       "    </tr>\n",
       "    <tr>\n",
       "      <th>mass</th>\n",
       "      <td>70 kilogram</td>\n",
       "    </tr>\n",
       "    <tr>\n",
       "      <th>diameter</th>\n",
       "      <td>0.711 meter</td>\n",
       "    </tr>\n",
       "    <tr>\n",
       "      <th>rho</th>\n",
       "      <td>1.2 kilogram / meter ** 3</td>\n",
       "    </tr>\n",
       "    <tr>\n",
       "      <th>C_d</th>\n",
       "      <td>0.47</td>\n",
       "    </tr>\n",
       "    <tr>\n",
       "      <th>angle</th>\n",
       "      <td>45 degree</td>\n",
       "    </tr>\n",
       "    <tr>\n",
       "      <th>velocity</th>\n",
       "      <td>40.0 meter / second</td>\n",
       "    </tr>\n",
       "    <tr>\n",
       "      <th>t_end</th>\n",
       "      <td>20 second</td>\n",
       "    </tr>\n",
       "    <tr>\n",
       "      <th>init</th>\n",
       "      <td>x                               0 meter\n",
       "y     ...</td>\n",
       "    </tr>\n",
       "    <tr>\n",
       "      <th>area</th>\n",
       "      <td>0.39703526495884145 meter ** 2</td>\n",
       "    </tr>\n",
       "  </tbody>\n",
       "</table>\n",
       "</div>"
      ],
      "text/plain": [
       "x                                                     0 meter\n",
       "y                                                  12.2 meter\n",
       "g                                     9.8 meter / second ** 2\n",
       "mass                                              70 kilogram\n",
       "diameter                                          0.711 meter\n",
       "rho                                 1.2 kilogram / meter ** 3\n",
       "C_d                                                      0.47\n",
       "angle                                               45 degree\n",
       "velocity                                  40.0 meter / second\n",
       "t_end                                               20 second\n",
       "init        x                               0 meter\n",
       "y     ...\n",
       "area                           0.39703526495884145 meter ** 2\n",
       "dtype: object"
      ]
     },
     "execution_count": 23,
     "metadata": {},
     "output_type": "execute_result"
    }
   ],
   "source": [
    "system = make_system(params)"
   ]
  },
  {
   "cell_type": "code",
   "execution_count": 24,
   "metadata": {},
   "outputs": [
    {
     "data": {
      "text/html": [
       "12.2 meter"
      ],
      "text/latex": [
       "$12.2 meter$"
      ],
      "text/plain": [
       "<Quantity(12.2, 'meter')>"
      ]
     },
     "execution_count": 24,
     "metadata": {},
     "output_type": "execute_result"
    }
   ],
   "source": [
    "def event_func_range (state, t, system):\n",
    "    \"\"\"Stop when the y coordinate is 0.\n",
    "    \n",
    "    state: State object\n",
    "    t: time\n",
    "    system: System object\n",
    "    \n",
    "    returns: y coordinate\n",
    "    \"\"\"\n",
    "    x, y, vx, vy = state\n",
    "    return y \n",
    "\n",
    "event_func_range(system.init, 0, system)"
   ]
  },
  {
   "cell_type": "code",
   "execution_count": 25,
   "metadata": {},
   "outputs": [
    {
     "data": {
      "text/html": [
       "-19 meter"
      ],
      "text/latex": [
       "$-19 meter$"
      ],
      "text/plain": [
       "<Quantity(-19, 'meter')>"
      ]
     },
     "execution_count": 25,
     "metadata": {},
     "output_type": "execute_result"
    }
   ],
   "source": [
    "def event_func_height(state, t, system):\n",
    "    \"\"\"Stop when the x coordinate is 94.5m.\n",
    "    \n",
    "    state: State object\n",
    "    t: time\n",
    "    system: System object\n",
    "    \n",
    "    returns: x coordinate - 94.5m\n",
    "    \"\"\"\n",
    "    x, y, vx, vy = state\n",
    "    return x - 19 * m #final x is 18.71, but we want to ensure they land on the roof, and not before it\n",
    "\n",
    "event_func_height(system.init, 0, system)"
   ]
  },
  {
   "cell_type": "code",
   "execution_count": 26,
   "metadata": {},
   "outputs": [
    {
     "data": {
      "text/html": [
       "28.92605959694371 meter"
      ],
      "text/latex": [
       "$28.92605959694371 meter$"
      ],
      "text/plain": [
       "<Quantity(28.92605959694371, 'meter')>"
      ]
     },
     "execution_count": 26,
     "metadata": {},
     "output_type": "execute_result"
    }
   ],
   "source": [
    "def height_func(angle, params):  \n",
    "    \"\"\"Computes range for a given launch angle.\n",
    "    \n",
    "    angle: launch angle in degrees\n",
    "    params: Params object\n",
    "    \n",
    "    returns: distance in meters\n",
    "    \"\"\"\n",
    "    params = Params(params, angle=angle)\n",
    "    system = make_system(params)\n",
    "    results, details = run_ode_solver(system, slope_func, events=event_func_height)\n",
    "    y_dist = get_last_value(results.y) * m\n",
    "    return y_dist\n",
    "\n",
    "height_func(45 * degree, params)"
   ]
  },
  {
   "cell_type": "code",
   "execution_count": 27,
   "metadata": {},
   "outputs": [
    {
     "data": {
      "text/html": [
       "145.98651835321346 meter"
      ],
      "text/latex": [
       "$145.98651835321346 meter$"
      ],
      "text/plain": [
       "<Quantity(145.98651835321346, 'meter')>"
      ]
     },
     "execution_count": 27,
     "metadata": {},
     "output_type": "execute_result"
    }
   ],
   "source": [
    "def range_func(angle, params):  \n",
    "    \"\"\"Computes range for a given launch angle.\n",
    "    \n",
    "    angle: launch angle in degrees\n",
    "    params: Params object\n",
    "    \n",
    "    returns: distance in meters\n",
    "    \"\"\"\n",
    "    params = Params(params, angle=angle)\n",
    "    system = make_system(params)\n",
    "    results, details = run_ode_solver(system, slope_func, events=event_func_range)\n",
    "    x_dist = get_last_value(results.x) * m\n",
    "    return x_dist\n",
    "\n",
    "range_func(45 * degree, params)"
   ]
  },
  {
   "cell_type": "code",
   "execution_count": 28,
   "metadata": {},
   "outputs": [],
   "source": [
    "angles = linspace(0, 68, 30)\n",
    "sweep_range = SweepSeries()\n",
    "sweep_height = SweepSeries()\n",
    "\n",
    "for angle in angles:\n",
    "    x_dist = range_func(angle, params)\n",
    "    sweep_range[angle] = x_dist\n",
    "    \n",
    "for angle in angles:\n",
    "    y_dist = height_func(angle, params)\n",
    "    sweep_height[angle] = y_dist"
   ]
  },
  {
   "cell_type": "code",
   "execution_count": 29,
   "metadata": {},
   "outputs": [
    {
     "name": "stdout",
     "output_type": "stream",
     "text": [
      "Saving figure to file figs/OlinLaunch-fig01.pdf\n"
     ]
    },
    {
     "data": {
      "image/png": "[encoded data removed]",
      "text/plain": [
       "<Figure size 432x288 with 1 Axes>"
      ]
     },
     "metadata": {
      "needs_background": "light"
     },
     "output_type": "display_data"
    }
   ],
   "source": [
    "plot(sweep_range, color = 'C2')\n",
    "decorate(xlabel='Launch angle (degree)',\n",
    "         ylabel='Range (m)',\n",
    "         title='Range as a function of launch angle',\n",
    "         legend=False)\n",
    "\n",
    "savefig('figs/OlinLaunch-fig01.pdf')"
   ]
  },
  {
   "cell_type": "code",
   "execution_count": 30,
   "metadata": {},
   "outputs": [
    {
     "name": "stdout",
     "output_type": "stream",
     "text": [
      "Saving figure to file figs/OlinLaunch-fig02.pdf\n"
     ]
    },
    {
     "data": {
      "image/png": "[encoded data removed]",
      "text/plain": [
       "<Figure size 432x288 with 1 Axes>"
      ]
     },
     "metadata": {
      "needs_background": "light"
     },
     "output_type": "display_data"
    }
   ],
   "source": [
    "plot(sweep_height, color = 'C2')\n",
    "decorate(xlabel='Launch angle (degree)',\n",
    "         ylabel='Height (m)',\n",
    "         title='Height as a function of launch angle',\n",
    "         legend=False)\n",
    "\n",
    "savefig('figs/OlinLaunch-fig02.pdf')"
   ]
  },
  {
   "cell_type": "code",
   "execution_count": 31,
   "metadata": {},
   "outputs": [
    {
     "name": "stdout",
     "output_type": "stream",
     "text": [
      "82.24259310226242 83.39117542397085 meter\n"
     ]
    }
   ],
   "source": [
    "results_height = max_bounded(height_func, [0, 90], params)\n",
    "optimal_angle = results_height.x\n",
    "print(optimal_angle, results_height.fun)"
   ]
  },
  {
   "cell_type": "markdown",
   "metadata": {},
   "source": [
    "With initial velocity 40 m/s and an optimal launch angle, the person soars over the wall. Next we figure out the minimum velocity needed."
   ]
  },
  {
   "cell_type": "markdown",
   "metadata": {},
   "source": [
    "### Finding the minimum velocity"
   ]
  },
  {
   "cell_type": "code",
   "execution_count": 16,
   "metadata": {
    "scrolled": true
   },
   "outputs": [
    {
     "ename": "NameError",
     "evalue": "name 'results' is not defined",
     "output_type": "error",
     "traceback": [
      "\u001b[1;31m---------------------------------------------------------------------------\u001b[0m",
      "\u001b[1;31mNameError\u001b[0m                                 Traceback (most recent call last)",
      "\u001b[1;32m<ipython-input-16-01163775d2cf>\u001b[0m in \u001b[0;36m<module>\u001b[1;34m()\u001b[0m\n\u001b[0;32m      6\u001b[0m                 \u001b[0mrho\u001b[0m \u001b[1;33m=\u001b[0m \u001b[1;36m1.2\u001b[0m \u001b[1;33m*\u001b[0m \u001b[0mkg\u001b[0m\u001b[1;33m/\u001b[0m\u001b[0mm\u001b[0m\u001b[1;33m**\u001b[0m\u001b[1;36m3\u001b[0m\u001b[1;33m,\u001b[0m \u001b[1;31m#density of air\u001b[0m\u001b[1;33m\u001b[0m\u001b[0m\n\u001b[0;32m      7\u001b[0m                 \u001b[0mC_d\u001b[0m \u001b[1;33m=\u001b[0m \u001b[1;36m0.47\u001b[0m\u001b[1;33m,\u001b[0m \u001b[1;31m#drag coefficient of a sphere\u001b[0m\u001b[1;33m\u001b[0m\u001b[0m\n\u001b[1;32m----> 8\u001b[1;33m                 \u001b[0mangle\u001b[0m \u001b[1;33m=\u001b[0m \u001b[0mresults\u001b[0m\u001b[1;33m.\u001b[0m\u001b[0mx\u001b[0m \u001b[1;33m*\u001b[0m \u001b[0mdegree\u001b[0m\u001b[1;33m,\u001b[0m \u001b[1;31m#initial launch angle\u001b[0m\u001b[1;33m\u001b[0m\u001b[0m\n\u001b[0m\u001b[0;32m      9\u001b[0m                 \u001b[0mvelocity\u001b[0m \u001b[1;33m=\u001b[0m \u001b[1;36m40\u001b[0m \u001b[1;33m*\u001b[0m \u001b[0mm\u001b[0m \u001b[1;33m/\u001b[0m \u001b[0ms\u001b[0m\u001b[1;33m,\u001b[0m \u001b[1;31m#initial launch velocity\u001b[0m\u001b[1;33m\u001b[0m\u001b[0m\n\u001b[0;32m     10\u001b[0m                 t_end = 20 * s) #point at which to end the simulation\n",
      "\u001b[1;31mNameError\u001b[0m: name 'results' is not defined"
     ]
    }
   ],
   "source": [
    "params = Params(x = 0 * m, #original x position\n",
    "                y = 12.2 * m, #original y position (12.2 is the height of the edge of West Hall)\n",
    "                g = 9.8 * m/s**2, #acceleration due to gravity\n",
    "                mass = 70 * kg, #average mass of a human adult\n",
    "                diameter = 0.711 * m, #average diameter of a balled-up human (based off Annie)\n",
    "                rho = 1.2 * kg/m**3, #density of air \n",
    "                C_d = 0.47, #drag coefficient of a sphere\n",
    "                angle = results.x * degree, #initial launch angle\n",
    "                velocity = 40 * m / s, #initial launch velocity\n",
    "                t_end = 20 * s) #point at which to end the simulation"
   ]
  },
  {
   "cell_type": "code",
   "execution_count": null,
   "metadata": {},
   "outputs": [],
   "source": [
    "def error_func_velocity(v, params):\n",
    "    params.velocity = v * m/s\n",
    "    system = make_system(params)\n",
    "    results = max_bounded(height_func, [0, 90], params)\n",
    "    height = results.fun\n",
    "    return height - 16 * m"
   ]
  },
  {
   "cell_type": "markdown",
   "metadata": {},
   "source": [
    "Test your error function before you call `fsolve`."
   ]
  },
  {
   "cell_type": "code",
   "execution_count": null,
   "metadata": {},
   "outputs": [],
   "source": [
    "error_func_velocity(40, params)"
   ]
  },
  {
   "cell_type": "markdown",
   "metadata": {},
   "source": [
    "Then use `fsolve` to find the answer to the problem, the minimum velocity that gets the ball out of the park."
   ]
  },
  {
   "cell_type": "code",
   "execution_count": null,
   "metadata": {},
   "outputs": [],
   "source": [
    "min_v_array = fsolve(error_func_velocity, 40, params)\n",
    "min_v = min_v_array[0]"
   ]
  },
  {
   "cell_type": "markdown",
   "metadata": {},
   "source": [
    "And just to check, run `error_func` with the value you found."
   ]
  },
  {
   "cell_type": "code",
   "execution_count": null,
   "metadata": {},
   "outputs": [],
   "source": [
    "error_func_velocity(min_v, params)"
   ]
  },
  {
   "cell_type": "markdown",
   "metadata": {},
   "source": [
    "## Results"
   ]
  },
  {
   "cell_type": "markdown",
   "metadata": {},
   "source": [
    "After finding the optimal angle and minimum starting velocity, we made used those values for angle and velocity in final params. Final params will then be used to run one last simulation for the Oliner Launch, to see if these values would have the correct trajectory."
   ]
  },
  {
   "cell_type": "code",
   "execution_count": null,
   "metadata": {},
   "outputs": [],
   "source": [
    "params_final = Params(x = 0 * m, \n",
    "                y = 12.2 * m,\n",
    "                g = 9.8 * m/s**2, \n",
    "                mass = 70 * kg, \n",
    "                diameter = 0.711 * m,\n",
    "                rho = 1.2 * kg/m**3, \n",
    "                C_d = 0.47, \n",
    "                angle = optimal_angle * degree, \n",
    "                velocity = min_v * m / s, \n",
    "                t_end = 20 * s);"
   ]
  },
  {
   "cell_type": "code",
   "execution_count": null,
   "metadata": {},
   "outputs": [],
   "source": [
    "system = make_system(params_final);"
   ]
  },
  {
   "cell_type": "markdown",
   "metadata": {},
   "source": [
    "The final event func stops the simulation when the Oliner hits the roof of East Hall, which is 15.74 meters tall."
   ]
  },
  {
   "cell_type": "code",
   "execution_count": null,
   "metadata": {},
   "outputs": [],
   "source": [
    "def event_func_final(state, t, system):\n",
    "    \"\"\"Stop when the y coordinate is 15.74.\n",
    "    \n",
    "    state: State object\n",
    "    t: time\n",
    "    system: System object\n",
    "    \n",
    "    returns: y coordinate\n",
    "    \"\"\"\n",
    "    x, y, vx, vy = state\n",
    "    return y - 15.74 * m"
   ]
  },
  {
   "cell_type": "markdown",
   "metadata": {},
   "source": [
    "The event func has its direction set to -1 to make sure the launch is not stopped on the Oliner's way up, but only when they are landing. run_ode_solver is run with the final event_func and system and then the trajectory of the Oliner is plotted (their x and y position)."
   ]
  },
  {
   "cell_type": "code",
   "execution_count": null,
   "metadata": {},
   "outputs": [],
   "source": [
    "event_func_final.direction = -1\n",
    "results, details = run_ode_solver(system, slope_func, events=event_func_final, max_step=0.01)\n",
    "plot(results.x, results.y)\n",
    "plot(results.x, results.y)\n",
    "decorate(xlabel='Horrizontal Position (degree)',\n",
    "         ylabel='Height (m)',\n",
    "         title='Height as a function of launch angle',\n",
    "         legend=False)\n",
    "\n",
    "savefig('figs/OlinLaunch-fig02.pdf')"
   ]
  },
  {
   "cell_type": "code",
   "execution_count": null,
   "metadata": {},
   "outputs": [],
   "source": [
    "final_x = get_last_value(results.x)\n",
    "final_y = get_last_value(results.y)\n",
    "print(final_x, final_y)"
   ]
  },
  {
   "cell_type": "markdown",
   "metadata": {},
   "source": [
    "As shown by the graph and the final x and y position of the Oliner, the launch trajectory is correct. With an optimal angle of 50.44 degrees and a minimum velocity of 15.27 m/s, the Oliner lands 0.5 meters past the required horrizontal distance (18.71m) and on the roof of East Hall (15.74m)."
   ]
  },
  {
   "cell_type": "markdown",
   "metadata": {},
   "source": [
    "## Interpretation"
   ]
  },
  {
   "cell_type": "code",
   "execution_count": null,
   "metadata": {},
   "outputs": [],
   "source": []
  }
 ],
 "metadata": {
  "kernelspec": {
   "display_name": "Python 3",
   "language": "python",
   "name": "python3"
  },
  "language_info": {
   "codemirror_mode": {
    "name": "ipython",
    "version": 3
   },
   "file_extension": ".py",
   "mimetype": "text/x-python",
   "name": "python",
   "nbconvert_exporter": "python",
   "pygments_lexer": "ipython3",
   "version": "3.6.6"
  }
 },
 "nbformat": 4,
 "nbformat_minor": 2
}
