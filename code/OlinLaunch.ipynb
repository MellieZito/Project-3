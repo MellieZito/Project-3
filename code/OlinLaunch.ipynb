{
 "cells": [
  {
   "cell_type": "markdown",
   "metadata": {},
   "source": [
    "# How much effort would it take to jump between West Hall and East Hall?\n",
    "\n",
    "Mellie Zito and Annie Tor\n",
    "\n",
    "ModSim Section 1, Group 13"
   ]
  },
  {
   "cell_type": "code",
   "execution_count": 1,
   "metadata": {},
   "outputs": [],
   "source": [
    "# Configure Jupyter so figures appear in the notebook\n",
    "%matplotlib inline\n",
    "\n",
    "# Configure Jupyter to display the assigned value after an assignment\n",
    "%config InteractiveShell.ast_node_interactivity='last_expr_or_assign'\n",
    "\n",
    "# import functions from the modsim.py module\n",
    "from modsim import *"
   ]
  },
  {
   "cell_type": "markdown",
   "metadata": {},
   "source": [
    "### Intial Set-up"
   ]
  },
  {
   "cell_type": "code",
   "execution_count": 2,
   "metadata": {},
   "outputs": [
    {
     "data": {
      "text/html": [
       "degree"
      ],
      "text/latex": [
       "$degree$"
      ],
      "text/plain": [
       "<Unit('degree')>"
      ]
     },
     "execution_count": 2,
     "metadata": {},
     "output_type": "execute_result"
    }
   ],
   "source": [
    "m = UNITS.meter\n",
    "s = UNITS.second\n",
    "kg = UNITS.kilogram\n",
    "degree = UNITS.degree"
   ]
  },
  {
   "cell_type": "code",
   "execution_count": 3,
   "metadata": {},
   "outputs": [
    {
     "data": {
      "text/html": [
       "<div>\n",
       "<style scoped>\n",
       "    .dataframe tbody tr th:only-of-type {\n",
       "        vertical-align: middle;\n",
       "    }\n",
       "\n",
       "    .dataframe tbody tr th {\n",
       "        vertical-align: top;\n",
       "    }\n",
       "\n",
       "    .dataframe thead th {\n",
       "        text-align: right;\n",
       "    }\n",
       "</style>\n",
       "<table border=\"1\" class=\"dataframe\">\n",
       "  <thead>\n",
       "    <tr style=\"text-align: right;\">\n",
       "      <th></th>\n",
       "      <th>values</th>\n",
       "    </tr>\n",
       "  </thead>\n",
       "  <tbody>\n",
       "    <tr>\n",
       "      <th>x</th>\n",
       "      <td>0 meter</td>\n",
       "    </tr>\n",
       "    <tr>\n",
       "      <th>y</th>\n",
       "      <td>12.2 meter</td>\n",
       "    </tr>\n",
       "    <tr>\n",
       "      <th>g</th>\n",
       "      <td>9.8 meter / second ** 2</td>\n",
       "    </tr>\n",
       "    <tr>\n",
       "      <th>mass</th>\n",
       "      <td>70 kilogram</td>\n",
       "    </tr>\n",
       "    <tr>\n",
       "      <th>diameter</th>\n",
       "      <td>0.711 meter</td>\n",
       "    </tr>\n",
       "    <tr>\n",
       "      <th>rho</th>\n",
       "      <td>1.2 kilogram / meter ** 3</td>\n",
       "    </tr>\n",
       "    <tr>\n",
       "      <th>C_d</th>\n",
       "      <td>0.47</td>\n",
       "    </tr>\n",
       "    <tr>\n",
       "      <th>angle</th>\n",
       "      <td>45 degree</td>\n",
       "    </tr>\n",
       "    <tr>\n",
       "      <th>velocity</th>\n",
       "      <td>40.0 meter / second</td>\n",
       "    </tr>\n",
       "    <tr>\n",
       "      <th>t_end</th>\n",
       "      <td>20 second</td>\n",
       "    </tr>\n",
       "  </tbody>\n",
       "</table>\n",
       "</div>"
      ],
      "text/plain": [
       "x                             0 meter\n",
       "y                          12.2 meter\n",
       "g             9.8 meter / second ** 2\n",
       "mass                      70 kilogram\n",
       "diameter                  0.711 meter\n",
       "rho         1.2 kilogram / meter ** 3\n",
       "C_d                              0.47\n",
       "angle                       45 degree\n",
       "velocity          40.0 meter / second\n",
       "t_end                       20 second\n",
       "dtype: object"
      ]
     },
     "execution_count": 3,
     "metadata": {},
     "output_type": "execute_result"
    }
   ],
   "source": [
    "params = Params(x = 0 * m, #original x position\n",
    "                y = 12.2 * m, #original y position (12.2 is the height of the edge of West Hall)\n",
    "                g = 9.8 * m/s**2, #acceleration due to gravity\n",
    "                mass = 70 * kg, #average mass of a human adult\n",
    "                diameter = 0.711 * m, #average diameter of a balled-up human (based off Annie)\n",
    "                rho = 1.2 * kg/m**3, #density of air \n",
    "                C_d = 0.47, #drag coefficient of a sphere\n",
    "                angle = 45 * degree, #initial launch angle\n",
    "                velocity = 40 * m / s, #initial launch velocity\n",
    "                t_end = 20 * s) #point at which to end the simulation"
   ]
  },
  {
   "cell_type": "code",
   "execution_count": 4,
   "metadata": {},
   "outputs": [],
   "source": [
    "def make_system(params):\n",
    "    \"\"\"Make a system object.\n",
    "    \n",
    "    params: Params object with angle, velocity, x, y,\n",
    "               diameter, duration, g, mass, rho, and C_d\n",
    "               \n",
    "    returns: System object\n",
    "    \"\"\"\n",
    "    unpack(params)\n",
    "    \n",
    "    # convert angle to degrees\n",
    "    theta = np.deg2rad(angle)\n",
    "    \n",
    "    # compute x and y components of velocity\n",
    "    vx, vy = pol2cart(theta, velocity)\n",
    "    \n",
    "    # make the initial state\n",
    "    init = State(x=x, y=y, vx=vx, vy=vy)\n",
    "    \n",
    "    # compute area from diameter\n",
    "    area = np.pi * (diameter/2)**2\n",
    "    \n",
    "    return System(params, init=init, area=area)"
   ]
  },
  {
   "cell_type": "code",
   "execution_count": 5,
   "metadata": {},
   "outputs": [],
   "source": [
    "def drag_force(V, system):\n",
    "    \"\"\"Computes drag force in the opposite direction of `V`.\n",
    "    \n",
    "    V: velocity\n",
    "    system: System object with rho, C_d, area\n",
    "    \n",
    "    returns: Vector drag force\n",
    "    \"\"\"\n",
    "    unpack(system)\n",
    "    mag = -rho * V.mag**2 * C_d * area / 2\n",
    "    direction = V.hat()\n",
    "    f_drag = mag * direction\n",
    "    return f_drag"
   ]
  },
  {
   "cell_type": "code",
   "execution_count": 6,
   "metadata": {},
   "outputs": [],
   "source": [
    "def slope_func(state, t, system):\n",
    "    \"\"\"Computes derivatives of the state variables.\n",
    "    \n",
    "    state: State (x, y, x velocity, y velocity)\n",
    "    t: time\n",
    "    system: System object with g, rho, C_d, area, mass\n",
    "    \n",
    "    returns: sequence (vx, vy, ax, ay)\n",
    "    \"\"\"\n",
    "    x, y, vx, vy = state\n",
    "    unpack(system)\n",
    "\n",
    "    V = Vector(vx, vy)    \n",
    "    a_drag = drag_force(V, system) / mass\n",
    "    a_grav = Vector(0, -g)\n",
    "    \n",
    "    a = a_grav + a_drag\n",
    "    \n",
    "    return vx, vy, a.x, a.y"
   ]
  },
  {
   "cell_type": "code",
   "execution_count": 7,
   "metadata": {},
   "outputs": [],
   "source": [
    "def event_func(state, t, system):\n",
    "    \"\"\"Stop when the y coordinate is 15.74.\n",
    "    \n",
    "    state: State object\n",
    "    t: time\n",
    "    system: System object\n",
    "    \n",
    "    returns: y coordinate\n",
    "    \"\"\"\n",
    "    x, y, vx, vy = state\n",
    "    return y -15.74 * m #height of EH"
   ]
  },
  {
   "cell_type": "markdown",
   "metadata": {},
   "source": [
    " "
   ]
  },
  {
   "cell_type": "markdown",
   "metadata": {},
   "source": [
    "### Work on this later: "
   ]
  },
  {
   "cell_type": "markdown",
   "metadata": {},
   "source": [
    "### Optimal launch angle\n",
    "\n",
    "To find the launch angle that maximizes distance from home plate, we need a function that takes launch angle and returns range."
   ]
  },
  {
   "cell_type": "code",
   "execution_count": 8,
   "metadata": {},
   "outputs": [],
   "source": [
    "def range_func(angle, params):  \n",
    "    \"\"\"Computes range for a given launch angle.\n",
    "    \n",
    "    angle: launch angle in degrees\n",
    "    params: Params object\n",
    "    \n",
    "    returns: distance in meters\n",
    "    \"\"\"\n",
    "    params = Params(params, angle=angle)\n",
    "    system = make_system(params)\n",
    "    results, details = run_ode_solver(system, slope_func, events=event_func)\n",
    "    x_dist = get_last_value(results.x) * m\n",
    "    return x_dist"
   ]
  },
  {
   "cell_type": "markdown",
   "metadata": {},
   "source": [
    "Let's test `range_func`."
   ]
  },
  {
   "cell_type": "code",
   "execution_count": 9,
   "metadata": {},
   "outputs": [
    {
     "name": "stdout",
     "output_type": "stream",
     "text": [
      "Wall time: 113 ms\n"
     ]
    },
    {
     "data": {
      "text/html": [
       "3.620734499870739 meter"
      ],
      "text/latex": [
       "$3.620734499870739 meter$"
      ],
      "text/plain": [
       "<Quantity(3.620734499870739, 'meter')>"
      ]
     },
     "execution_count": 9,
     "metadata": {},
     "output_type": "execute_result"
    }
   ],
   "source": [
    "%time range_func(45, params)"
   ]
  },
  {
   "cell_type": "markdown",
   "metadata": {},
   "source": [
    "And sweep through a range of angles."
   ]
  },
  {
   "cell_type": "code",
   "execution_count": 10,
   "metadata": {},
   "outputs": [
    {
     "name": "stdout",
     "output_type": "stream",
     "text": [
      "20.0 10.864802093843126 meter\n",
      "23.0 9.04338798886407 meter\n",
      "26.0 7.726336737228438 meter\n",
      "29.0 6.714629478285232 meter\n",
      "32.0 5.90453119868965 meter\n",
      "35.0 5.235526070635512 meter\n",
      "38.0 4.6695013430664485 meter\n",
      "41.0 4.18106713808494 meter\n",
      "44.0 3.7525593800784476 meter\n",
      "47.0 3.371253117476373 meter\n",
      "50.0 3.0277126682549644 meter\n",
      "53.0 2.714766803840082 meter\n",
      "56.0 2.426846493514953 meter\n",
      "59.0 2.1595424142395374 meter\n",
      "62.0 1.909300657688504 meter\n",
      "65.0 1.673208128431226 meter\n",
      "68.0 1.4488376141660424 meter\n",
      "71.0 1.234133489820048 meter\n",
      "74.0 1.027325698927686 meter\n",
      "77.0 0.8268635675672372 meter\n",
      "80.0 0.6313637246087436 meter\n"
     ]
    }
   ],
   "source": [
    "angles = linspace(20, 80, 21)\n",
    "sweep = SweepSeries()\n",
    "\n",
    "for angle in angles:\n",
    "    x_dist = range_func(angle, params)\n",
    "    print(angle, x_dist)\n",
    "    sweep[angle] = x_dist"
   ]
  },
  {
   "cell_type": "markdown",
   "metadata": {},
   "source": [
    "Plotting the `Sweep` object, it looks like the peak is between 40 and 45 degrees."
   ]
  },
  {
   "cell_type": "code",
   "execution_count": 11,
   "metadata": {},
   "outputs": [
    {
     "name": "stdout",
     "output_type": "stream",
     "text": [
      "Saving figure to file figs/chap10-fig03.pdf\n"
     ]
    },
    {
     "data": {
      "image/png": "[encoded data removed]",
      "text/plain": [
       "<Figure size 432x288 with 1 Axes>"
      ]
     },
     "metadata": {
      "needs_background": "light"
     },
     "output_type": "display_data"
    }
   ],
   "source": [
    "plot(sweep, color='C2')\n",
    "decorate(xlabel='Launch angle (degree)',\n",
    "         ylabel='Range (m)',\n",
    "         title='Range as a function of launch angle',\n",
    "         legend=False)\n",
    "\n",
    "savefig('figs/chap10-fig03.pdf')"
   ]
  },
  {
   "cell_type": "markdown",
   "metadata": {},
   "source": [
    "We can use `max_bounded` to search for the peak efficiently."
   ]
  },
  {
   "cell_type": "code",
   "execution_count": 12,
   "metadata": {},
   "outputs": [
    {
     "name": "stdout",
     "output_type": "stream",
     "text": [
      "Wall time: 1.7 s\n"
     ]
    }
   ],
   "source": [
    "%time res = max_bounded(range_func, [0, 90], params)"
   ]
  },
  {
   "cell_type": "markdown",
   "metadata": {},
   "source": [
    "`res` is an `ModSimSeries` object with detailed results:"
   ]
  },
  {
   "cell_type": "code",
   "execution_count": 13,
   "metadata": {},
   "outputs": [
    {
     "data": {
      "text/html": [
       "<div>\n",
       "<style scoped>\n",
       "    .dataframe tbody tr th:only-of-type {\n",
       "        vertical-align: middle;\n",
       "    }\n",
       "\n",
       "    .dataframe tbody tr th {\n",
       "        vertical-align: top;\n",
       "    }\n",
       "\n",
       "    .dataframe thead th {\n",
       "        text-align: right;\n",
       "    }\n",
       "</style>\n",
       "<table border=\"1\" class=\"dataframe\">\n",
       "  <thead>\n",
       "    <tr style=\"text-align: right;\">\n",
       "      <th></th>\n",
       "      <th>values</th>\n",
       "    </tr>\n",
       "  </thead>\n",
       "  <tbody>\n",
       "    <tr>\n",
       "      <th>fun</th>\n",
       "      <td>396.15738499597234 meter</td>\n",
       "    </tr>\n",
       "    <tr>\n",
       "      <th>status</th>\n",
       "      <td>0</td>\n",
       "    </tr>\n",
       "    <tr>\n",
       "      <th>success</th>\n",
       "      <td>True</td>\n",
       "    </tr>\n",
       "    <tr>\n",
       "      <th>message</th>\n",
       "      <td>Solution found.</td>\n",
       "    </tr>\n",
       "    <tr>\n",
       "      <th>x</th>\n",
       "      <td>8.98925</td>\n",
       "    </tr>\n",
       "    <tr>\n",
       "      <th>nfev</th>\n",
       "      <td>13</td>\n",
       "    </tr>\n",
       "  </tbody>\n",
       "</table>\n",
       "</div>"
      ],
      "text/plain": [
       "fun        396.15738499597234 meter\n",
       "status                            0\n",
       "success                        True\n",
       "message             Solution found.\n",
       "x                           8.98925\n",
       "nfev                             13\n",
       "dtype: object"
      ]
     },
     "execution_count": 13,
     "metadata": {},
     "output_type": "execute_result"
    }
   ],
   "source": [
    "res"
   ]
  },
  {
   "cell_type": "markdown",
   "metadata": {},
   "source": [
    "`x` is the optimal angle and `fun` the optional range."
   ]
  },
  {
   "cell_type": "code",
   "execution_count": 14,
   "metadata": {},
   "outputs": [
    {
     "data": {
      "text/html": [
       "8.989251206619912 degree"
      ],
      "text/latex": [
       "$8.989251206619912 degree$"
      ],
      "text/plain": [
       "<Quantity(8.989251206619912, 'degree')>"
      ]
     },
     "execution_count": 14,
     "metadata": {},
     "output_type": "execute_result"
    }
   ],
   "source": [
    "optimal_angle = res.x * degree"
   ]
  },
  {
   "cell_type": "code",
   "execution_count": 15,
   "metadata": {},
   "outputs": [
    {
     "data": {
      "text/html": [
       "396.15738499597234 meter"
      ],
      "text/latex": [
       "$396.15738499597234 meter$"
      ],
      "text/plain": [
       "<Quantity(396.15738499597234, 'meter')>"
      ]
     },
     "execution_count": 15,
     "metadata": {},
     "output_type": "execute_result"
    }
   ],
   "source": [
    "max_x_dist = res.fun"
   ]
  },
  {
   "cell_type": "markdown",
   "metadata": {},
   "source": [
    "### Under the hood\n",
    "\n",
    "Read the source code for `max_bounded` and `min_bounded`, below.\n",
    "\n",
    "Add a print statement to `range_func` that prints `angle`.  Then run `max_bounded` again so you can see how many times it calls `range_func` and what the arguments are."
   ]
  },
  {
   "cell_type": "code",
   "execution_count": 16,
   "metadata": {},
   "outputs": [],
   "source": [
    "%psource max_bounded"
   ]
  },
  {
   "cell_type": "code",
   "execution_count": 17,
   "metadata": {},
   "outputs": [],
   "source": [
    "%psource min_bounded"
   ]
  },
  {
   "cell_type": "markdown",
   "metadata": {},
   "source": [
    "### The Manny Ramirez problem\n",
    "\n",
    "Finally, let's solve the Manny Ramirez problem:\n",
    "\n",
    "*What is the minimum effort required to hit a home run in Fenway Park?*\n",
    "\n",
    "Fenway Park is a baseball stadium in Boston, Massachusetts.  One of its most famous features is the \"Green Monster\", which is a wall in left field that is unusually close to home plate, only 310 feet along the left field line.  To compensate for the short distance, the wall is unusually high, at 37 feet.\n",
    "\n",
    "Although the problem asks for a minimum, it is not an optimization problem.  Rather, we want to solve for the initial velocity that just barely gets the ball to the top of the wall, given that it is launched at the optimal angle.\n",
    "\n",
    "And we have to be careful about what we mean by \"optimal\".  For this problem, we don't want the longest range, we want the maximum height at the point where it reaches the wall.\n",
    "\n",
    "If you are ready to solve the problem on your own, go ahead.  Otherwise I will walk you through the process with an outline and some starter code.\n",
    "\n",
    "As a first step, write a function called `height_func` that takes a launch angle and a params as parameters, simulates the flights of a baseball, and returns the height of the baseball when it reaches a point 94.5 meters (310 feet) from home plate."
   ]
  },
  {
   "cell_type": "code",
   "execution_count": 18,
   "metadata": {},
   "outputs": [
    {
     "data": {
      "text/html": [
       "<div>\n",
       "<style scoped>\n",
       "    .dataframe tbody tr th:only-of-type {\n",
       "        vertical-align: middle;\n",
       "    }\n",
       "\n",
       "    .dataframe tbody tr th {\n",
       "        vertical-align: top;\n",
       "    }\n",
       "\n",
       "    .dataframe thead th {\n",
       "        text-align: right;\n",
       "    }\n",
       "</style>\n",
       "<table border=\"1\" class=\"dataframe\">\n",
       "  <thead>\n",
       "    <tr style=\"text-align: right;\">\n",
       "      <th></th>\n",
       "      <th>values</th>\n",
       "    </tr>\n",
       "  </thead>\n",
       "  <tbody>\n",
       "    <tr>\n",
       "      <th>fun</th>\n",
       "      <td>50.90691163642795 meter</td>\n",
       "    </tr>\n",
       "    <tr>\n",
       "      <th>status</th>\n",
       "      <td>0</td>\n",
       "    </tr>\n",
       "    <tr>\n",
       "      <th>success</th>\n",
       "      <td>True</td>\n",
       "    </tr>\n",
       "    <tr>\n",
       "      <th>message</th>\n",
       "      <td>Solution found.</td>\n",
       "    </tr>\n",
       "    <tr>\n",
       "      <th>x</th>\n",
       "      <td>54.962</td>\n",
       "    </tr>\n",
       "    <tr>\n",
       "      <th>nfev</th>\n",
       "      <td>11</td>\n",
       "    </tr>\n",
       "  </tbody>\n",
       "</table>\n",
       "</div>"
      ],
      "text/plain": [
       "fun        50.90691163642795 meter\n",
       "status                           0\n",
       "success                       True\n",
       "message            Solution found.\n",
       "x                           54.962\n",
       "nfev                            11\n",
       "dtype: object"
      ]
     },
     "execution_count": 18,
     "metadata": {},
     "output_type": "execute_result"
    }
   ],
   "source": [
    "system = make_system(params)\n",
    "\n",
    "def event_func(state, t, system):\n",
    "    \"\"\"Stop when the x coordinate is 94.5m.\n",
    "    \n",
    "    state: State object\n",
    "    t: time\n",
    "    system: System object\n",
    "    \n",
    "    returns: x coordinate - 94.5m\n",
    "    \"\"\"\n",
    "    x, y, vx, vy = state\n",
    "    return x - 94.5 * m\n",
    "\n",
    "event_func(system.init, 0, system)\n",
    "\n",
    "def height_func(angle, params):  \n",
    "    \"\"\"Computes range for a given launch angle.\n",
    "    \n",
    "    angle: launch angle in degrees\n",
    "    params: Params object\n",
    "    \n",
    "    returns: distance in meters\n",
    "    \"\"\"\n",
    "    params = Params(params, angle=angle)\n",
    "    system = make_system(params)\n",
    "    results, details = run_ode_solver(system, slope_func, events=event_func)\n",
    "    y_dist = get_last_value(results.y) * m\n",
    "    return y_dist\n",
    "\n",
    "height_func(45 * degree, params)\n",
    "\n",
    "results = max_bounded(height_func, [0, 90], params)\n",
    "#should be 44.5"
   ]
  },
  {
   "cell_type": "markdown",
   "metadata": {},
   "source": [
    "With initial velocity 40 m/s and an optimal launch angle, the ball clears the Green Monster with a little room to spare.\n",
    "\n",
    "Which means we can get over the wall with a lower initial velocity."
   ]
  },
  {
   "cell_type": "markdown",
   "metadata": {},
   "source": [
    "### Finding the minimum velocity\n",
    "\n",
    "Even though we are finding the \"minimum\" velocity, we are not really solving a minimization problem.  Rather, we want to find the velocity that makes the height at the wall exactly 11 m, given given that it's launched at the optimal angle.  And that's a job for `fsolve`.\n",
    "\n",
    "Write an error function that takes a velocity and a `Params` object as parameters.  It should use `max_bounded` to find the highest possible height of the ball at the wall, for the given velocity.  Then it should return the difference between that optimal height and 11 meters."
   ]
  },
  {
   "cell_type": "code",
   "execution_count": 24,
   "metadata": {},
   "outputs": [
    {
     "data": {
      "text/html": [
       "<div>\n",
       "<style scoped>\n",
       "    .dataframe tbody tr th:only-of-type {\n",
       "        vertical-align: middle;\n",
       "    }\n",
       "\n",
       "    .dataframe tbody tr th {\n",
       "        vertical-align: top;\n",
       "    }\n",
       "\n",
       "    .dataframe thead th {\n",
       "        text-align: right;\n",
       "    }\n",
       "</style>\n",
       "<table border=\"1\" class=\"dataframe\">\n",
       "  <thead>\n",
       "    <tr style=\"text-align: right;\">\n",
       "      <th></th>\n",
       "      <th>values</th>\n",
       "    </tr>\n",
       "  </thead>\n",
       "  <tbody>\n",
       "    <tr>\n",
       "      <th>x</th>\n",
       "      <td>0 meter</td>\n",
       "    </tr>\n",
       "    <tr>\n",
       "      <th>y</th>\n",
       "      <td>1 meter</td>\n",
       "    </tr>\n",
       "    <tr>\n",
       "      <th>g</th>\n",
       "      <td>9.8 meter / second ** 2</td>\n",
       "    </tr>\n",
       "    <tr>\n",
       "      <th>mass</th>\n",
       "      <td>0.145 kilogram</td>\n",
       "    </tr>\n",
       "    <tr>\n",
       "      <th>diameter</th>\n",
       "      <td>0.073 meter</td>\n",
       "    </tr>\n",
       "    <tr>\n",
       "      <th>rho</th>\n",
       "      <td>1.2 kilogram / meter ** 3</td>\n",
       "    </tr>\n",
       "    <tr>\n",
       "      <th>C_d</th>\n",
       "      <td>0.3</td>\n",
       "    </tr>\n",
       "    <tr>\n",
       "      <th>angle</th>\n",
       "      <td>45 degree</td>\n",
       "    </tr>\n",
       "    <tr>\n",
       "      <th>velocity</th>\n",
       "      <td>40.0 meter / second</td>\n",
       "    </tr>\n",
       "    <tr>\n",
       "      <th>t_end</th>\n",
       "      <td>20 second</td>\n",
       "    </tr>\n",
       "  </tbody>\n",
       "</table>\n",
       "</div>"
      ],
      "text/plain": [
       "x                             0 meter\n",
       "y                             1 meter\n",
       "g             9.8 meter / second ** 2\n",
       "mass                   0.145 kilogram\n",
       "diameter                  0.073 meter\n",
       "rho         1.2 kilogram / meter ** 3\n",
       "C_d                               0.3\n",
       "angle                       45 degree\n",
       "velocity          40.0 meter / second\n",
       "t_end                       20 second\n",
       "dtype: object"
      ]
     },
     "execution_count": 24,
     "metadata": {},
     "output_type": "execute_result"
    }
   ],
   "source": [
    "params = Params(x = 0 * m, \n",
    "                y = 1 * m,\n",
    "                g = 9.8 * m/s**2,\n",
    "                mass = 145e-3 * kg,\n",
    "                diameter = 73e-3 * m,\n",
    "                rho = 1.2 * kg/m**3,\n",
    "                C_d = 0.3,\n",
    "                angle = 45 * degree,\n",
    "                velocity = 40 * m / s,\n",
    "                t_end = 20 * s)"
   ]
  },
  {
   "cell_type": "code",
   "execution_count": 25,
   "metadata": {},
   "outputs": [],
   "source": [
    "def error_func2(v, params):\n",
    "    params.velocity = v * m/s\n",
    "    system = make_system(params)\n",
    "    results = max_bounded(height_func, [0, 90], params)\n",
    "    height = results.fun\n",
    "    return height - 11 * m"
   ]
  },
  {
   "cell_type": "markdown",
   "metadata": {},
   "source": [
    "Test your error function before you call `fsolve`."
   ]
  },
  {
   "cell_type": "code",
   "execution_count": 26,
   "metadata": {},
   "outputs": [
    {
     "data": {
      "text/html": [
       "0.04782805563812076 meter"
      ],
      "text/latex": [
       "$0.04782805563812076 meter$"
      ],
      "text/plain": [
       "<Quantity(0.04782805563812076, 'meter')>"
      ]
     },
     "execution_count": 26,
     "metadata": {},
     "output_type": "execute_result"
    }
   ],
   "source": [
    "error_func2(40, params)"
   ]
  },
  {
   "cell_type": "markdown",
   "metadata": {},
   "source": [
    "Then use `fsolve` to find the answer to the problem, the minimum velocity that gets the ball out of the park."
   ]
  },
  {
   "cell_type": "code",
   "execution_count": 27,
   "metadata": {},
   "outputs": [
    {
     "data": {
      "text/plain": [
       "array([39.98806408])"
      ]
     },
     "execution_count": 27,
     "metadata": {},
     "output_type": "execute_result"
    }
   ],
   "source": [
    "fsolve(error_func2, 40, params)"
   ]
  },
  {
   "cell_type": "markdown",
   "metadata": {},
   "source": [
    "And just to check, run `error_func` with the value you found."
   ]
  },
  {
   "cell_type": "code",
   "execution_count": 28,
   "metadata": {},
   "outputs": [
    {
     "data": {
      "text/html": [
       "6.653905870734889e-09 meter"
      ],
      "text/latex": [
       "$6.653905870734889e-09 meter$"
      ],
      "text/plain": [
       "<Quantity(6.653905870734889e-09, 'meter')>"
      ]
     },
     "execution_count": 28,
     "metadata": {},
     "output_type": "execute_result"
    }
   ],
   "source": [
    "error_func2(39.98806408, params)"
   ]
  }
 ],
 "metadata": {
  "kernelspec": {
   "display_name": "Python 3",
   "language": "python",
   "name": "python3"
  },
  "language_info": {
   "codemirror_mode": {
    "name": "ipython",
    "version": 3
   },
   "file_extension": ".py",
   "mimetype": "text/x-python",
   "name": "python",
   "nbconvert_exporter": "python",
   "pygments_lexer": "ipython3",
   "version": "3.6.6"
  }
 },
 "nbformat": 4,
 "nbformat_minor": 2
}
