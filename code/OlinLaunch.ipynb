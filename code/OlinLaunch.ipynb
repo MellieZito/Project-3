{
 "cells": [
  {
   "cell_type": "markdown",
   "metadata": {},
   "source": [
    "# How much effort would it take to jump between West Hall and East Hall?\n",
    "\n",
    "Mellie Zito and Annie Tor\n",
    "\n",
    "ModSim Section 1, Group 13"
   ]
  },
  {
   "cell_type": "code",
   "execution_count": 1,
   "metadata": {},
   "outputs": [],
   "source": [
    "# Configure Jupyter so figures appear in the notebook\n",
    "%matplotlib inline\n",
    "\n",
    "# Configure Jupyter to display the assigned value after an assignment\n",
    "%config InteractiveShell.ast_node_interactivity='last_expr_or_assign'\n",
    "\n",
    "# import functions from the modsim.py module\n",
    "from modsim import *"
   ]
  },
  {
   "cell_type": "markdown",
   "metadata": {},
   "source": [
    "## Question"
   ]
  },
  {
   "cell_type": "markdown",
   "metadata": {},
   "source": [
    "As Olin students, we have often contemplated odd hypotheticals. In this case, we are going to launch a student from the roof of West Hall to the roof of East Hall. This question was inspired by the frigid, long (1 minute) walk from one dorm to another. For the launch to be as efficient as possible and successful, we need to find the optimal angle and minimum starting velocity needed."
   ]
  },
  {
   "cell_type": "markdown",
   "metadata": {},
   "source": [
    "## Model"
   ]
  },
  {
   "cell_type": "markdown",
   "metadata": {},
   "source": [
    "### Setup"
   ]
  },
  {
   "cell_type": "markdown",
   "metadata": {},
   "source": [
    "First, we need to import all the units we’ll be implementing in the model. We’ll be using the metric system."
   ]
  },
  {
   "cell_type": "code",
   "execution_count": 2,
   "metadata": {},
   "outputs": [],
   "source": [
    "m = UNITS.meter\n",
    "s = UNITS.second\n",
    "kg = UNITS.kilogram\n",
    "degree = UNITS.degree;"
   ]
  },
  {
   "cell_type": "markdown",
   "metadata": {},
   "source": [
    "Next, we’ll implement some values for our model. According to campus blueprints, the roof of West Hall is about 12.2 meters off the ground, so we’ll set the starting position of our Oliner at 0 meters out horizontally (x) and 12.2 meters up (y). We’ll also pass in some general constants for use in our equations later on, such as the acceleration due to gravity (g), the average mass of a human being (mass), the average diameter of a curled-up human being (diameter), the density of air (rho), and the drag coefficient of a sphere (C_d). These constants were sourced from either taking actual measurements or online research. Then, We’ll set initial values for our launch angle (angle), and our launch velocity (velocity). Lastly, we’ll set a stop time for the simulation (t_end)."
   ]
  },
  {
   "cell_type": "code",
   "execution_count": 3,
   "metadata": {},
   "outputs": [],
   "source": [
    "params = Params(x = 0 * m,\n",
    "                y = 12.2 * m,\n",
    "                g = 9.8 * m/s**2, \n",
    "                mass = 70 * kg,\n",
    "                diameter = 0.711 * m, \n",
    "                rho = 1.2 * kg/m**3, \n",
    "                C_d = 0.47,\n",
    "                angle = 45 * degree,\n",
    "                velocity = 40 * m / s,\n",
    "                t_end = 20 * s);"
   ]
  },
  {
   "cell_type": "markdown",
   "metadata": {},
   "source": [
    "This function takes in our parameters and outputs a system object with our parameters, an initial state for our model, and the area of the facade of our Oliner."
   ]
  },
  {
   "cell_type": "code",
   "execution_count": 28,
   "metadata": {},
   "outputs": [],
   "source": [
    "def make_system(params):\n",
    "    \"\"\"Make a system object.\n",
    "    \n",
    "    params: Params object with angle, velocity, x, y,\n",
    "               diameter, duration, g, mass, rho, and C_d\n",
    "               \n",
    "    returns: System object\n",
    "    \"\"\"\n",
    "    unpack(params)\n",
    "    \n",
    "    theta = np.deg2rad(angle)\n",
    "    \n",
    "    vx, vy = pol2cart(theta, velocity)\n",
    "    \n",
    "    init = State(x=x, y=y, vx=vx, vy=vy)\n",
    "    \n",
    "    area = np.pi * (diameter/2)**2\n",
    "    \n",
    "    return System(params, init=init, area=area)"
   ]
  },
  {
   "cell_type": "markdown",
   "metadata": {},
   "source": [
    "This function takes in a velocity and a system object and outputs a vector describing the drag force on our Oliner at any point. The magnitude of this force is computed using the equation magnitude = -(rho * velocity^2 * C_d * area) / 2. Its direction is the same as that of the velocity vector. We make the magnitude negative because the force goes in the opposite direction of our Oliner."
   ]
  },
  {
   "cell_type": "code",
   "execution_count": 26,
   "metadata": {},
   "outputs": [],
   "source": [
    "def drag_force(V, system):\n",
    "    \"\"\"Computes drag force in the opposite direction of `V`.\n",
    "    \n",
    "    V: velocity\n",
    "    system: System object with rho, C_d, area\n",
    "    \n",
    "    returns: Vector drag force\n",
    "    \"\"\"\n",
    "    unpack(system)\n",
    "    mag = -rho * V.mag**2 * C_d * area / 2\n",
    "    direction = V.hat()\n",
    "    f_drag = mag * direction\n",
    "    return f_drag"
   ]
  },
  {
   "cell_type": "markdown",
   "metadata": {},
   "source": [
    "This function takes in a state, a time, and a system and outputs changes to each of our state variables, which are the Oliner’s x position, the Oliner’s y position, the Oliner’s velocity in the x direction, and the Oliner’s velocity in y direction. Changes to the Oliner’s x and y positions are simply computed using the corresponding velocity. Changes to the Oliner’s x and y velocities are a little more complex, because we must first compute acceleration. According to the force equation F = mass * acceleration, we can find the acceleration of the Oliner’s x velocity by computing the drag force on the Oliner (using the function `drag_force`) and then dividing it by the Oliner’s mass. To find the acceleration of the Oliner’s y velocity, we simply create a vector with the magnitude of acceleration due to gravity, going straight down."
   ]
  },
  {
   "cell_type": "code",
   "execution_count": 6,
   "metadata": {},
   "outputs": [],
   "source": [
    "def slope_func(state, t, system):\n",
    "    \"\"\"Computes derivatives of the state variables.\n",
    "    \n",
    "    state: State (x, y, x velocity, y velocity)\n",
    "    t: time\n",
    "    system: System object with g, rho, C_d, area, mass\n",
    "    \n",
    "    returns: sequence (vx, vy, ax, ay)\n",
    "    \"\"\"\n",
    "    x, y, vx, vy = state\n",
    "    unpack(system)\n",
    "\n",
    "    V = Vector(vx, vy)    \n",
    "    a_drag = drag_force(V, system) / mass\n",
    "    a_grav = Vector(0, -g)\n",
    "    \n",
    "    a = a_grav + a_drag\n",
    "    \n",
    "    return vx, vy, a.x, a.y"
   ]
  },
  {
   "cell_type": "markdown",
   "metadata": {},
   "source": [
    " "
   ]
  },
  {
   "cell_type": "markdown",
   "metadata": {},
   "source": [
    "### Finding the optimal angle"
   ]
  },
  {
   "cell_type": "markdown",
   "metadata": {},
   "source": [
    "In order to figure out the optimal angle for launch, we used `range_func` and `event_func_range`. `range_func` calculates the final x position of the Oliner based on angle and `event_func_range` stops the simulation when the Oliner hits the roof of East Hall. The optimal angle is found by doing a sweep of all angles, and finding the angle that results in the greatest final x position of the Oliner."
   ]
  },
  {
   "cell_type": "code",
   "execution_count": 7,
   "metadata": {},
   "outputs": [],
   "source": [
    "system = make_system(params);"
   ]
  },
  {
   "cell_type": "markdown",
   "metadata": {},
   "source": [
    "`event_func_range` stops the simulation when the Oliner hits the roof of East Hall (15.74m). The direction of `event_func_range` is set to -1 to make sure the simulation does not stop at the beginning of the trajectory when the Oliner is being launched higher but passes the 15.74m y position. "
   ]
  },
  {
   "cell_type": "code",
   "execution_count": 27,
   "metadata": {},
   "outputs": [
    {
     "data": {
      "text/html": [
       "-3.540000000000001 meter"
      ],
      "text/latex": [
       "$-3.540000000000001 meter$"
      ],
      "text/plain": [
       "<Quantity(-3.540000000000001, 'meter')>"
      ]
     },
     "execution_count": 27,
     "metadata": {},
     "output_type": "execute_result"
    }
   ],
   "source": [
    "def event_func_range (state, t, system):\n",
    "    \"\"\"Stop when the y coordinate is 15.74m.\n",
    "    \n",
    "    state: State object\n",
    "    t: time\n",
    "    system: System object\n",
    "    \n",
    "    returns: y coordinate - 15.74m\n",
    "    \"\"\"\n",
    "    x, y, vx, vy = state\n",
    "    return y - 15.74 * m\n",
    "\n",
    "event_func_range.direction = -1\n",
    "event_func_range(system.init, 0, system)"
   ]
  },
  {
   "cell_type": "markdown",
   "metadata": {},
   "source": [
    "`range_func` calculates the final x position of the Oliner for a given angle."
   ]
  },
  {
   "cell_type": "code",
   "execution_count": 9,
   "metadata": {},
   "outputs": [
    {
     "data": {
      "text/html": [
       "133.3105526017006 meter"
      ],
      "text/latex": [
       "$133.3105526017006 meter$"
      ],
      "text/plain": [
       "<Quantity(133.3105526017006, 'meter')>"
      ]
     },
     "execution_count": 9,
     "metadata": {},
     "output_type": "execute_result"
    }
   ],
   "source": [
    "def range_func(angle, params):  \n",
    "    \"\"\"Computes range for a given launch angle.\n",
    "    \n",
    "    angle: launch angle in degrees\n",
    "    params: Params object\n",
    "    \n",
    "    returns: distance in meters\n",
    "    \"\"\"\n",
    "    params_range = Params(params, angle=angle)\n",
    "    system_range = make_system(params_range)\n",
    "    results, details = run_ode_solver(system_range, slope_func, events=event_func_range)\n",
    "    x_dist = get_last_value(results.x) * m\n",
    "    return x_dist\n",
    "\n",
    "range_func(45 * degree, params)"
   ]
  },
  {
   "cell_type": "markdown",
   "metadata": {},
   "source": [
    "An array of possible angles is used to create a SweepSeries of angle and corresponding final x position of Oliner. The SweepSeries is then plotted to demonstrate the relationship between launch angle and x distance. In the angles between 0 and 15 degrees, the Oliner falls short of the roof of East Hall, so those angles were taken off the graph for plot clarity."
   ]
  },
  {
   "cell_type": "code",
   "execution_count": 10,
   "metadata": {},
   "outputs": [],
   "source": [
    "angles_range = linspace(15, 90, 30)\n",
    "sweep_range = SweepSeries()\n",
    "\n",
    "for angle in angles_range:\n",
    "    x_dist = range_func(angle, params)\n",
    "    sweep_range[angle] = x_dist"
   ]
  },
  {
   "cell_type": "code",
   "execution_count": 11,
   "metadata": {},
   "outputs": [
    {
     "data": {
      "image/png": "[encoded data removed]",
      "text/plain": [
       "<Figure size 432x288 with 1 Axes>"
      ]
     },
     "metadata": {
      "needs_background": "light"
     },
     "output_type": "display_data"
    }
   ],
   "source": [
    "plot(sweep_range, color = 'C2')\n",
    "decorate(xlabel='Launch angle (degree)',\n",
    "         ylabel='Range (m)',\n",
    "         title='Range as a function of launch angle',\n",
    "         legend=False)"
   ]
  },
  {
   "cell_type": "markdown",
   "metadata": {},
   "source": [
    "The function `max_bounded` is used to find the the highest x distance based on angle without having to do an entire SweepSeries. The optimal angle is shown to be 44.38 degrees."
   ]
  },
  {
   "cell_type": "code",
   "execution_count": 12,
   "metadata": {},
   "outputs": [
    {
     "name": "stdout",
     "output_type": "stream",
     "text": [
      "44.383520474811235 133.3402263522255 meter\n"
     ]
    }
   ],
   "source": [
    "results_range = max_bounded(range_func, [0, 90], params)\n",
    "optimal_angle = results_range.x\n",
    "print(optimal_angle, results_range.fun)"
   ]
  },
  {
   "cell_type": "markdown",
   "metadata": {},
   "source": [
    "Since the x distance is well past 18.71m distance between West Hall and East Hall, the velocity can then be decreased to find the minimum effort possible."
   ]
  },
  {
   "cell_type": "markdown",
   "metadata": {},
   "source": [
    "### Height Func"
   ]
  },
  {
   "cell_type": "markdown",
   "metadata": {},
   "source": [
    "We used `height_func` to track the final height of the Oliner to find the minimum velocity needed to land on East Hall roof (15.74m high).\n"
   ]
  },
  {
   "cell_type": "code",
   "execution_count": 13,
   "metadata": {},
   "outputs": [],
   "source": [
    "system = make_system(params);"
   ]
  },
  {
   "cell_type": "markdown",
   "metadata": {},
   "source": [
    "For `event_func_height`, the termination event is set at the x distance 20 meters. Although the distance between West Hall and East Hall is 18.71m, we wanted to ensure they landed squarely on the roof and not the edge of it. "
   ]
  },
  {
   "cell_type": "code",
   "execution_count": 14,
   "metadata": {},
   "outputs": [
    {
     "data": {
      "text/html": [
       "-20 meter"
      ],
      "text/latex": [
       "$-20 meter$"
      ],
      "text/plain": [
       "<Quantity(-20, 'meter')>"
      ]
     },
     "execution_count": 14,
     "metadata": {},
     "output_type": "execute_result"
    }
   ],
   "source": [
    "def event_func_height(state, t, system):\n",
    "    \"\"\"Stop when the x coordinate is 20m.\n",
    "    \n",
    "    state: State object\n",
    "    t: time\n",
    "    system: System object\n",
    "    \n",
    "    returns: x coordinate - 20m\n",
    "    \"\"\"\n",
    "    x, y, vx, vy = state\n",
    "    return x - 20 * m\n",
    "\n",
    "event_func_height(system.init, 0, system)"
   ]
  },
  {
   "cell_type": "markdown",
   "metadata": {},
   "source": [
    "`height_func` calculates the final height of the Oliner for a given angle."
   ]
  },
  {
   "cell_type": "code",
   "execution_count": 15,
   "metadata": {},
   "outputs": [
    {
     "data": {
      "text/html": [
       "29.676840050004998 meter"
      ],
      "text/latex": [
       "$29.676840050004998 meter$"
      ],
      "text/plain": [
       "<Quantity(29.676840050004998, 'meter')>"
      ]
     },
     "execution_count": 15,
     "metadata": {},
     "output_type": "execute_result"
    }
   ],
   "source": [
    "def height_func(angle, params):  \n",
    "    \"\"\"Computes range for a given launch angle.\n",
    "    \n",
    "    angle: launch angle in degrees\n",
    "    params: Params object\n",
    "    \n",
    "    returns: distance in meters\n",
    "    \"\"\"\n",
    "    params_height = Params(params, angle=angle)\n",
    "    system_height = make_system(params_height)\n",
    "    results, details = run_ode_solver(system_height, slope_func, events=event_func_height)\n",
    "    y_dist = get_last_value(results.y) * m\n",
    "    return y_dist\n",
    "\n",
    "height_func(45 * degree, params)"
   ]
  },
  {
   "cell_type": "markdown",
   "metadata": {},
   "source": [
    "`height_func` will be used in the next section to find the minimum velocity."
   ]
  },
  {
   "cell_type": "markdown",
   "metadata": {},
   "source": [
    "### Finding the minimum velocity"
   ]
  },
  {
   "cell_type": "markdown",
   "metadata": {},
   "source": [
    "The next part of our solution is to find the minimum velocity needed to clear the jump.\n",
    "\n",
    "Since we just found the optimal angle for range, we'll now re-establish our parameters, replacing the initial angle value with the one we just found."
   ]
  },
  {
   "cell_type": "code",
   "execution_count": 16,
   "metadata": {
    "scrolled": true
   },
   "outputs": [],
   "source": [
    "params_min = Params(x = 0 * m,\n",
    "                y = 12.2 * m, \n",
    "                g = 9.8 * m/s**2,\n",
    "                mass = 70 * kg,\n",
    "                diameter = 0.711 * m, \n",
    "                rho = 1.2 * kg/m**3, \n",
    "                C_d = 0.47, \n",
    "                angle = results_range.x * degree, \n",
    "                velocity = 40 * m / s, \n",
    "                t_end = 20 * s);"
   ]
  },
  {
   "cell_type": "markdown",
   "metadata": {},
   "source": [
    "In order to ensure that our optimal velocity takes into account the height the Oliner must reach by the end of the jump, we'll make an error function that takes in a velocity and some parameters and outputs the difference between the calculated end height and the ideal end height. The closer the output of this function is to 0, the better the velocity will fit the model. Currently, our error function is designed for the Oliner to land at a height of 16 meters, which is a bit higher than the required height of 15.74 meters. This is to ensure that the Oliner will land with room to spare. "
   ]
  },
  {
   "cell_type": "code",
   "execution_count": 27,
   "metadata": {},
   "outputs": [
    {
     "data": {
      "text/html": [
       "67.24281421116903 meter"
      ],
      "text/latex": [
       "$67.24281421116903 meter$"
      ],
      "text/plain": [
       "<Quantity(67.24281421116903, 'meter')>"
      ]
     },
     "execution_count": 27,
     "metadata": {},
     "output_type": "execute_result"
    }
   ],
   "source": [
    "def error_func_velocity(v, params_min):\n",
    "    params_min.velocity = v * m/s\n",
    "    system = make_system(params_min)\n",
    "    results = max_bounded(height_func, [0, 90], params_min)\n",
    "    height = results.fun\n",
    "    return height - 16 * m\n",
    "\n",
    "error_func_velocity(40, params_min)"
   ]
  },
  {
   "cell_type": "markdown",
   "metadata": {},
   "source": [
    "Next, we'll use `fsolve` to find the minimum velocity that our Oliner will need to be launched at."
   ]
  },
  {
   "cell_type": "code",
   "execution_count": 28,
   "metadata": {},
   "outputs": [
    {
     "data": {
      "text/plain": [
       "15.597622461900539"
      ]
     },
     "execution_count": 28,
     "metadata": {},
     "output_type": "execute_result"
    }
   ],
   "source": [
    "min_v_array = fsolve(error_func_velocity, 40, params_min)\n",
    "min_v = min_v_array[0]"
   ]
  },
  {
   "cell_type": "markdown",
   "metadata": {},
   "source": [
    "When we run `error_func` with the value you found."
   ]
  },
  {
   "cell_type": "code",
   "execution_count": 20,
   "metadata": {},
   "outputs": [
    {
     "data": {
      "text/html": [
       "-1.6910917111090384e-12 meter"
      ],
      "text/latex": [
       "$-1.6910917111090384e-12 meter$"
      ],
      "text/plain": [
       "<Quantity(-1.6910917111090384e-12, 'meter')>"
      ]
     },
     "execution_count": 20,
     "metadata": {},
     "output_type": "execute_result"
    }
   ],
   "source": [
    "error_func_velocity(min_v, params_min)"
   ]
  },
  {
   "cell_type": "markdown",
   "metadata": {},
   "source": [
    "## Results"
   ]
  },
  {
   "cell_type": "markdown",
   "metadata": {},
   "source": [
    "After finding the optimal angle and minimum starting velocity, we made used those values for angle and velocity in final params. Final params will then be used to run one last simulation for the Oliner Launch, to see if these values would have the correct trajectory."
   ]
  },
  {
   "cell_type": "code",
   "execution_count": 21,
   "metadata": {},
   "outputs": [],
   "source": [
    "params_final = Params(x = 0 * m, \n",
    "                y = 12.2 * m,\n",
    "                g = 9.8 * m/s**2, \n",
    "                mass = 70 * kg, \n",
    "                diameter = 0.711 * m,\n",
    "                rho = 1.2 * kg/m**3, \n",
    "                C_d = 0.47, \n",
    "                angle = optimal_angle * degree, \n",
    "                velocity = min_v * m / s, \n",
    "                t_end = 20 * s);"
   ]
  },
  {
   "cell_type": "code",
   "execution_count": 22,
   "metadata": {},
   "outputs": [],
   "source": [
    "system_final = make_system(params_final);"
   ]
  },
  {
   "cell_type": "markdown",
   "metadata": {},
   "source": [
    "The final event func stops the simulation when the Oliner hits the roof of East Hall, which is 15.74 meters tall."
   ]
  },
  {
   "cell_type": "code",
   "execution_count": 23,
   "metadata": {},
   "outputs": [],
   "source": [
    "def event_func_final(state, t, system):\n",
    "    \"\"\"Stop when the y coordinate is 15.74.\n",
    "    \n",
    "    state: State object\n",
    "    t: time\n",
    "    system: System object\n",
    "    \n",
    "    returns: y coordinate\n",
    "    \"\"\"\n",
    "    x, y, vx, vy = state\n",
    "    return y - 15.74 * m"
   ]
  },
  {
   "cell_type": "markdown",
   "metadata": {},
   "source": [
    "The event func has its direction set to -1 to make sure the launch is not stopped on the Oliner's way up, but only when they are landing. `run_ode_solver` is run with `event_func_final` and system and then the trajectory of the Oliner is plotted (their x and y position)."
   ]
  },
  {
   "cell_type": "code",
   "execution_count": 24,
   "metadata": {},
   "outputs": [
    {
     "data": {
      "image/png": "[encoded data removed]",
      "text/plain": [
       "<Figure size 432x288 with 1 Axes>"
      ]
     },
     "metadata": {
      "needs_background": "light"
     },
     "output_type": "display_data"
    }
   ],
   "source": [
    "event_func_final.direction = -1\n",
    "results, details = run_ode_solver(system_final, slope_func, events=event_func_final, max_step=0.01)\n",
    "plot(results.x, results.y)\n",
    "decorate(xlabel='Horizontal Position (degree)',\n",
    "         ylabel='Height (m)',\n",
    "         title='Height as a function of launch angle',\n",
    "         legend=False)"
   ]
  },
  {
   "cell_type": "code",
   "execution_count": 25,
   "metadata": {},
   "outputs": [
    {
     "name": "stdout",
     "output_type": "stream",
     "text": [
      "19.773506256223015 15.74\n"
     ]
    }
   ],
   "source": [
    "final_x = get_last_value(results.x)\n",
    "final_y = get_last_value(results.y)\n",
    "print(final_x, final_y)"
   ]
  },
  {
   "cell_type": "markdown",
   "metadata": {},
   "source": [
    "As shown by the graph and the final x and y position of the Oliner, the launch trajectory is correct. With an optimal angle of 50.44 degrees and a minimum velocity of 15.27 m/s, the Oliner lands 0.5 meters past the required horizontal distance (18.71m) and on the roof of East Hall (15.74m)."
   ]
  },
  {
   "cell_type": "markdown",
   "metadata": {},
   "source": [
    "## Interpretation"
   ]
  },
  {
   "cell_type": "code",
   "execution_count": null,
   "metadata": {},
   "outputs": [],
   "source": []
  }
 ],
 "metadata": {
  "kernelspec": {
   "display_name": "Python 3",
   "language": "python",
   "name": "python3"
  },
  "language_info": {
   "codemirror_mode": {
    "name": "ipython",
    "version": 3
   },
   "file_extension": ".py",
   "mimetype": "text/x-python",
   "name": "python",
   "nbconvert_exporter": "python",
   "pygments_lexer": "ipython3",
   "version": "3.6.6"
  }
 },
 "nbformat": 4,
 "nbformat_minor": 2
}
