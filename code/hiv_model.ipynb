{
 "cells": [
  {
   "cell_type": "markdown",
   "metadata": {},
   "source": [
    "# Hiv Model\n",
    "\n",
    "Mellie Zito"
   ]
  },
  {
   "cell_type": "code",
   "execution_count": 8,
   "metadata": {},
   "outputs": [],
   "source": [
    "# Configure Jupyter so figures appear in the notebook\n",
    "%matplotlib inline\n",
    "\n",
    "# Configure Jupyter to display the assigned value after an assignment\n",
    "%config InteractiveShell.ast_node_interactivity='last_expr_or_assign'\n",
    "\n",
    "# import functions from the modsim.py module\n",
    "from modsim import *"
   ]
  },
  {
   "cell_type": "code",
   "execution_count": 9,
   "metadata": {},
   "outputs": [],
   "source": [
    "'''Greek Alphabet:\n",
    "Α α, Β β, Γ γ, Δ δ, Ε ε, Ζ ζ, Η η, Θ θ, Ι ι, Κ κ, \n",
    "Λ λ, Μ μ, Ν ν, Ξ ξ, Ο ο, Π π, Ρ ρ, \n",
    "Σ σ/ς, Τ τ, Υ υ, Φ φ, \n",
    "Χ χ, Ψ ψ, and Ω ω.\n",
    "''';"
   ]
  },
  {
   "cell_type": "markdown",
   "metadata": {},
   "source": [
    "For the HIV model, the system and state is created below. The state object has the 4 different types of cells, and the system object has the different rates, proportions, and the state object. The cells and rates are defined in the doc strings below. "
   ]
  },
  {
   "cell_type": "code",
   "execution_count": 10,
   "metadata": {},
   "outputs": [],
   "source": [
    "def make_system(Γ, τ, μ, β, ρ, α, δ, σ, π, dt):\n",
    "    \"\"\"Make a system object for the SIR model.\n",
    "    R is lymphocytes\n",
    "    L is latently infected cells\n",
    "    E is actively infected cells\n",
    "    V is free virions\n",
    "    \n",
    "    Γ is the rate at which new, uninfected lymphocytes (R) arise\n",
    "    τ is the proportion of uninfected lymphocytes (R) that are activated\n",
    "    μ is the rate uninfected lymphocytes (R) are removed by HIV-independent death\n",
    "    β is the rate of infection (lymphocytes to virions)\n",
    "    ρ is the proportion of cells that become latently infected (L)\n",
    "    α is the rate of removal of latently infected cells (L) by activation\n",
    "    δ is the rate of death of actively infected cells (E)\n",
    "    σ is the rate of removal of free virions (V)\n",
    "    π is rate of production of virions (V) by an actively infected cell (E)\n",
    "    \n",
    "    returns: System object\n",
    "    \"\"\"\n",
    "    init = State(R=200, L=0, E=0,V=4e-7)\n",
    "\n",
    "    t0 = 0\n",
    "    t_end = 120\n",
    "\n",
    "    return System(init=init, t0=t0, t_end=t_end,\n",
    "                  Γ=Γ, τ=τ, μ=μ, β=β, ρ=ρ, α=α, δ=δ, σ=σ, π=π, dt=dt)"
   ]
  },
  {
   "cell_type": "markdown",
   "metadata": {},
   "source": [
    "The virions need to be plotted separately from the other types of cells, since there is a much larger number of virions than other cells. The plot functions are created below for the virions and the other types of cells."
   ]
  },
  {
   "cell_type": "code",
   "execution_count": 11,
   "metadata": {},
   "outputs": [],
   "source": [
    "def plot_results_single(V):\n",
    "    \"\"\"Plot the virions from the results of a HIV model.\n",
    "    \n",
    "    V: TimeSeries\n",
    "    \n",
    "    \"\"\"\n",
    "    plot(V, '-', label='Virions')\n",
    "    \n",
    "    decorate(xlabel='Days from infection',\n",
    "             ylabel='Virions')"
   ]
  },
  {
   "cell_type": "code",
   "execution_count": 12,
   "metadata": {},
   "outputs": [],
   "source": [
    "def plot_results(R, L, E):\n",
    "    \"\"\"Plot the lymphocytes, latently infected cells, and actively infected cells from results of a HIV model.\n",
    "    \n",
    "    R: TimeSeries\n",
    "    L: TimeSeries\n",
    "    E: TimeSeries\n",
    "    \n",
    "    \"\"\"\n",
    "    plot(R, '-', label='Lymphocytes')\n",
    "    plot(L, '-', label='Latently infected cells')\n",
    "    plot(E, '-', label='Actively infected cells')\n",
    "    \n",
    "    decorate(xlabel='Days from infection',\n",
    "             ylabel='Cells')"
   ]
  },
  {
   "cell_type": "markdown",
   "metadata": {},
   "source": [
    "## Euler's Method"
   ]
  },
  {
   "cell_type": "markdown",
   "metadata": {},
   "source": [
    "The relationships for the cells (cell death, becoming infected, new cell creation, etc.) are modeled in the differential equations. These equations and relationships are drawn from the article. The state object is then updated based on the differential equation times the set time step."
   ]
  },
  {
   "cell_type": "code",
   "execution_count": 13,
   "metadata": {},
   "outputs": [],
   "source": [
    "def update_func(state, t, system):\n",
    "    \"\"\"Makes the differential equations.\n",
    "    \n",
    "    state: State (R, L, E, V)\n",
    "    t: time\n",
    "    system: System object\n",
    "    \n",
    "    returns: State (R, L, E, V)\n",
    "    \"\"\"\n",
    "    unpack(system)\n",
    "    \n",
    "    r, l, e, v = state\n",
    "    \n",
    "    dt = 1/10\n",
    "\n",
    "    #dr/dt = Γτ - μr - βrv\n",
    "    r_arise = Γ * τ \n",
    "    r_death = μ * r \n",
    "    r_infection = β * r * v\n",
    "    \n",
    "    #dl/dt = ρβRV - μL - αL\n",
    "    l_infection = ρ * β * r * v\n",
    "    l_death = μ * l\n",
    "    l_activation = α * l\n",
    "    \n",
    "    #de/dt = (1-ρ)βRV + αL - δE\n",
    "    e_generation = (1-ρ)* β * r * v #actively infected cells are generated immediately after infection\n",
    "    e_activation = α * l\n",
    "    e_death = δ * e\n",
    "    \n",
    "    #dv/dt = (pi)E - σV  \n",
    "    v_production = π * e\n",
    "    v_death = σ * v\n",
    "    \n",
    "    drdt = r_arise - r_death - r_infection\n",
    "    dldt = l_infection - l_death - l_activation\n",
    "    dedt = e_generation + e_activation - e_death\n",
    "    dvdt = v_production - v_death\n",
    "    \n",
    "    r += drdt * dt\n",
    "    l += dldt * dt\n",
    "    e += dedt * dt\n",
    "    v += dvdt * dt\n",
    "    \n",
    "    return State(R=r, L=l, E=e, V=v)"
   ]
  },
  {
   "cell_type": "code",
   "execution_count": 14,
   "metadata": {},
   "outputs": [],
   "source": [
    "def run_simulation(system, update_func):\n",
    "    \"\"\"Runs a simulation of the system.\n",
    "        \n",
    "    system: System object\n",
    "    update_func: function that updates state\n",
    "    \n",
    "    returns: TimeFrame\n",
    "    \"\"\"\n",
    "    unpack(system)\n",
    "    \n",
    "    frame = TimeFrame(columns=init.index)\n",
    "    frame.row[t0] = init\n",
    "    \n",
    "    for t in linrange(t0, t_end, dt):\n",
    "        frame.row[t+dt] = update_func(frame.row[t], t, system)\n",
    "    \n",
    "    return frame"
   ]
  },
  {
   "cell_type": "markdown",
   "metadata": {},
   "source": [
    "System is initialized with all of the rates and proportions from the article, and dt is set at 1/10 (found by manually adjustment)"
   ]
  },
  {
   "cell_type": "code",
   "execution_count": 15,
   "metadata": {},
   "outputs": [],
   "source": [
    "system = make_system(1.36, 0.2, 0.00136, 0.00027, 0.1, 0.036, 0.33, 2, 100, 1/10)\n",
    "results = run_simulation(system, update_func);"
   ]
  },
  {
   "cell_type": "code",
   "execution_count": 16,
   "metadata": {},
   "outputs": [
    {
     "data": {
      "image/png": "[encoded data removed]",
      "text/plain": [
       "<Figure size 432x288 with 1 Axes>"
      ]
     },
     "metadata": {
      "needs_background": "light"
     },
     "output_type": "display_data"
    }
   ],
   "source": [
    "plot_results(results.R, results.L, results.E)"
   ]
  },
  {
   "cell_type": "code",
   "execution_count": 17,
   "metadata": {
    "scrolled": true
   },
   "outputs": [
    {
     "data": {
      "image/png": "[encoded data removed]",
      "text/plain": [
       "<Figure size 432x288 with 1 Axes>"
      ]
     },
     "metadata": {
      "needs_background": "light"
     },
     "output_type": "display_data"
    }
   ],
   "source": [
    "plot_results_single(results.V)"
   ]
  },
  {
   "cell_type": "markdown",
   "metadata": {},
   "source": [
    "The plots line up fairly well with the results from the article"
   ]
  },
  {
   "cell_type": "markdown",
   "metadata": {},
   "source": [
    "## ODE_solver"
   ]
  },
  {
   "cell_type": "markdown",
   "metadata": {},
   "source": [
    "The relationships for the cells (cell death, becoming infected, new cell creation, etc.) are modeled in the differential equations. These equations and relationships are drawn from the article. The differential equations are returned to be used by the ode_solver."
   ]
  },
  {
   "cell_type": "code",
   "execution_count": 121,
   "metadata": {},
   "outputs": [],
   "source": [
    "def slope_func(state, t, system):\n",
    "    \"\"\"Makes the differential equations.\n",
    "    \n",
    "    state: State (R, L, E, V)\n",
    "    t: time\n",
    "    system: System object\n",
    "    \n",
    "    returns: drdt, dldt, dedt, dvdt\n",
    "    \"\"\"\n",
    "    unpack(system)\n",
    "    \n",
    "    r, l, e, v = state\n",
    "\n",
    "    #dr/dt = Γτ - μr - βrv\n",
    "    r_arise = Γ * τ \n",
    "    r_death = μ * r \n",
    "    r_infection = β * r * v\n",
    "    \n",
    "    #dl/dt = ρβRV - μL - αL\n",
    "    l_infection = ρ * β * r * v\n",
    "    l_death = μ * l\n",
    "    l_activation = α * l\n",
    "    \n",
    "    #de/dt = (1-ρ)βRV + αL - δE\n",
    "    e_generation = (1-ρ)* β * r * v #actively infected cells are generated immediately after infection\n",
    "    e_activation = α * l\n",
    "    e_death = δ * e\n",
    "    \n",
    "    #dv/dt = (pi)E - σV  \n",
    "    v_production = π * e\n",
    "    v_death = σ * v\n",
    "    \n",
    "    drdt = r_arise - r_death - r_infection\n",
    "    dldt = l_infection - l_death - l_activation\n",
    "    dedt = e_generation + e_activation - e_death\n",
    "    dvdt = v_production - v_death\n",
    "    \n",
    "    return drdt, dldt, dedt, dvdt"
   ]
  },
  {
   "cell_type": "markdown",
   "metadata": {},
   "source": [
    "The system is initialized with the rates and proportions from the article. dt is set at 0 since its not needed by the ode_solver. The ode_solver is run and the results are used for the plots."
   ]
  },
  {
   "cell_type": "code",
   "execution_count": 122,
   "metadata": {},
   "outputs": [
    {
     "data": {
      "text/html": [
       "<div>\n",
       "<style scoped>\n",
       "    .dataframe tbody tr th:only-of-type {\n",
       "        vertical-align: middle;\n",
       "    }\n",
       "\n",
       "    .dataframe tbody tr th {\n",
       "        vertical-align: top;\n",
       "    }\n",
       "\n",
       "    .dataframe thead th {\n",
       "        text-align: right;\n",
       "    }\n",
       "</style>\n",
       "<table border=\"1\" class=\"dataframe\">\n",
       "  <thead>\n",
       "    <tr style=\"text-align: right;\">\n",
       "      <th></th>\n",
       "      <th>values</th>\n",
       "    </tr>\n",
       "  </thead>\n",
       "  <tbody>\n",
       "    <tr>\n",
       "      <th>sol</th>\n",
       "      <td>None</td>\n",
       "    </tr>\n",
       "    <tr>\n",
       "      <th>t_events</th>\n",
       "      <td>[]</td>\n",
       "    </tr>\n",
       "    <tr>\n",
       "      <th>nfev</th>\n",
       "      <td>884</td>\n",
       "    </tr>\n",
       "    <tr>\n",
       "      <th>njev</th>\n",
       "      <td>0</td>\n",
       "    </tr>\n",
       "    <tr>\n",
       "      <th>nlu</th>\n",
       "      <td>0</td>\n",
       "    </tr>\n",
       "    <tr>\n",
       "      <th>status</th>\n",
       "      <td>0</td>\n",
       "    </tr>\n",
       "    <tr>\n",
       "      <th>message</th>\n",
       "      <td>The solver successfully reached the end of the...</td>\n",
       "    </tr>\n",
       "    <tr>\n",
       "      <th>success</th>\n",
       "      <td>True</td>\n",
       "    </tr>\n",
       "  </tbody>\n",
       "</table>\n",
       "</div>"
      ],
      "text/plain": [
       "sol                                                      None\n",
       "t_events                                                   []\n",
       "nfev                                                      884\n",
       "njev                                                        0\n",
       "nlu                                                         0\n",
       "status                                                      0\n",
       "message     The solver successfully reached the end of the...\n",
       "success                                                  True\n",
       "dtype: object"
      ]
     },
     "execution_count": 122,
     "metadata": {},
     "output_type": "execute_result"
    }
   ],
   "source": [
    "system = make_system(1.36, 0.2, 0.00136, 0.00027, 0.1, 0.036, 0.33, 2, 100, 0)\n",
    "#make_system(Γ, τ, μ, β, ρ, α, δ, σ, π, dt)\n",
    "\n",
    "slope_func(system.init, system.t0, system)\n",
    "results, details = run_ode_solver(system, slope_func, max_step=1)\n",
    "details"
   ]
  },
  {
   "cell_type": "code",
   "execution_count": 123,
   "metadata": {},
   "outputs": [
    {
     "data": {
      "image/png": "[encoded data removed]",
      "text/plain": [
       "<Figure size 432x288 with 1 Axes>"
      ]
     },
     "metadata": {
      "needs_background": "light"
     },
     "output_type": "display_data"
    }
   ],
   "source": [
    "plot_results(results.R, results.L, results.E)"
   ]
  },
  {
   "cell_type": "code",
   "execution_count": 124,
   "metadata": {},
   "outputs": [
    {
     "data": {
      "image/png": "[encoded data removed]",
      "text/plain": [
       "<Figure size 432x288 with 1 Axes>"
      ]
     },
     "metadata": {
      "needs_background": "light"
     },
     "output_type": "display_data"
    }
   ],
   "source": [
    "plot_results_single(results.V)"
   ]
  },
  {
   "cell_type": "markdown",
   "metadata": {},
   "source": [
    "The plots look similar to the article and the euler's method plots."
   ]
  }
 ],
 "metadata": {
  "kernelspec": {
   "display_name": "Python 3",
   "language": "python",
   "name": "python3"
  },
  "language_info": {
   "codemirror_mode": {
    "name": "ipython",
    "version": 3
   },
   "file_extension": ".py",
   "mimetype": "text/x-python",
   "name": "python",
   "nbconvert_exporter": "python",
   "pygments_lexer": "ipython3",
   "version": "3.6.6"
  }
 },
 "nbformat": 4,
 "nbformat_minor": 2
}
